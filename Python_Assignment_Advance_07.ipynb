{
  "nbformat": 4,
  "nbformat_minor": 0,
  "metadata": {
    "colab": {
      "provenance": []
    },
    "kernelspec": {
      "name": "python3",
      "display_name": "Python 3"
    },
    "language_info": {
      "name": "python"
    }
  },
  "cells": [
    {
      "cell_type": "code",
      "execution_count": null,
      "metadata": {
        "id": "hoA29Ols6g8W"
      },
      "outputs": [],
      "source": []
    },
    {
      "cell_type": "markdown",
      "source": [
        "## Q1. What is the purpose of the try statement?\n",
        "\n",
        "Answer:- The try statement allows you to define a block of code to be tested for errors while it is being executed. The catch statement allows you to define a block of code to be executed, if an error occurs in the try block"
      ],
      "metadata": {
        "id": "2rrNx7-d-I_T"
      }
    },
    {
      "cell_type": "code",
      "source": [],
      "metadata": {
        "id": "SK0nMrLR-UsW"
      },
      "execution_count": null,
      "outputs": []
    },
    {
      "cell_type": "markdown",
      "source": [
        "## Q2. What are the two most popular try statement variations?\n",
        "\n",
        "Answer:- else and finally "
      ],
      "metadata": {
        "id": "2y6_hQd0-VfO"
      }
    },
    {
      "cell_type": "code",
      "source": [],
      "metadata": {
        "id": "lDobXqyE-ed0"
      },
      "execution_count": null,
      "outputs": []
    },
    {
      "cell_type": "markdown",
      "source": [
        "## Q3. What is the purpose of the raise statement?\n",
        "\n",
        "Answer:- The raise keyword is used to raise an exception. You can define what kind of error to raise, and the text to print to the user."
      ],
      "metadata": {
        "id": "PyDVlN2d-e61"
      }
    },
    {
      "cell_type": "code",
      "source": [],
      "metadata": {
        "id": "P_9TVFvV-prF"
      },
      "execution_count": null,
      "outputs": []
    },
    {
      "cell_type": "markdown",
      "source": [
        "## Q4. What does the assert statement do, and what other statement is it like?\n",
        "\n",
        "Answer:- The assert keyword is used when debugging code. The assert keyword lets you test if a condition in your code returns True, if not, the program will raise an AssertionError. You can write a message to be written if the code returns False, check the example below."
      ],
      "metadata": {
        "id": "rm4BeEe0-qjb"
      }
    },
    {
      "cell_type": "code",
      "source": [],
      "metadata": {
        "id": "Bln_1y5w-5HM"
      },
      "execution_count": null,
      "outputs": []
    },
    {
      "cell_type": "markdown",
      "source": [
        "## Q5. What is the purpose of the with/as argument, and what other statement is it like?\n",
        "\n",
        "Answer:-  the with statement replaces a try-catch block with a concise shorthand. More importantly, it ensures closing resources right after processing them. A common example of using the with statement is reading or writing to a file"
      ],
      "metadata": {
        "id": "rFfufKfH_CbN"
      }
    },
    {
      "cell_type": "code",
      "source": [],
      "metadata": {
        "id": "VPCbCpYj_kBl"
      },
      "execution_count": null,
      "outputs": []
    }
  ]
}